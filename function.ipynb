{
 "cells": [
  {
   "cell_type": "code",
   "execution_count": 1,
   "id": "20a531c4",
   "metadata": {},
   "outputs": [],
   "source": [
    "def abhi():\n",
    "    print(\"hi everyone\")"
   ]
  },
  {
   "cell_type": "code",
   "execution_count": 2,
   "id": "fb337adb",
   "metadata": {},
   "outputs": [
    {
     "name": "stdout",
     "output_type": "stream",
     "text": [
      "hi everyone\n"
     ]
    }
   ],
   "source": [
    "print(\"hi everyone\")"
   ]
  },
  {
   "cell_type": "code",
   "execution_count": null,
   "id": "3a81ab64",
   "metadata": {},
   "outputs": [],
   "source": []
  },
  {
   "cell_type": "code",
   "execution_count": 3,
   "id": "a31520ed",
   "metadata": {},
   "outputs": [
    {
     "name": "stdout",
     "output_type": "stream",
     "text": [
      "hi abhishek\n"
     ]
    }
   ],
   "source": [
    "print(\"hi abhishek\")"
   ]
  },
  {
   "cell_type": "code",
   "execution_count": 4,
   "id": "cb06e14e",
   "metadata": {},
   "outputs": [
    {
     "name": "stdout",
     "output_type": "stream",
     "text": [
      "hi virat\n"
     ]
    }
   ],
   "source": [
    "print(\"hi virat\")"
   ]
  },
  {
   "cell_type": "code",
   "execution_count": null,
   "id": "e0a7bfc5",
   "metadata": {},
   "outputs": [],
   "source": [
    "a = input(\"enter name\")\n",
    "print(\"hi \"+a)"
   ]
  },
  {
   "cell_type": "code",
   "execution_count": null,
   "id": "16f10bd4",
   "metadata": {},
   "outputs": [],
   "source": [
    "a = 12\n",
    "def greet(a,b):\n",
    "    ab = 12\n",
    "    print(\"hi \"+a,b)"
   ]
  },
  {
   "cell_type": "code",
   "execution_count": null,
   "id": "da52ab65",
   "metadata": {},
   "outputs": [],
   "source": [
    "greet('sachin','dravid')"
   ]
  },
  {
   "cell_type": "code",
   "execution_count": null,
   "id": "e0413d9c",
   "metadata": {},
   "outputs": [],
   "source": [
    "greet()"
   ]
  },
  {
   "cell_type": "code",
   "execution_count": null,
   "id": "2d11db08",
   "metadata": {},
   "outputs": [],
   "source": []
  },
  {
   "cell_type": "code",
   "execution_count": null,
   "id": "87318ba5",
   "metadata": {},
   "outputs": [],
   "source": [
    "def abc(a):\n",
    "    if (10 < a < 20):\n",
    "        print(\"its there\")\n",
    "    elif (21<a< 40):\n",
    "        print(\"here\")\n",
    "    else:\n",
    "        print(\"not here\")\n",
    "    "
   ]
  },
  {
   "cell_type": "code",
   "execution_count": null,
   "id": "85c748d3",
   "metadata": {},
   "outputs": [],
   "source": [
    "abc(10)"
   ]
  },
  {
   "cell_type": "code",
   "execution_count": null,
   "id": "33451a17",
   "metadata": {},
   "outputs": [],
   "source": [
    "abc(22)"
   ]
  },
  {
   "cell_type": "code",
   "execution_count": null,
   "id": "da1871d0",
   "metadata": {},
   "outputs": [],
   "source": [
    "abc(55)"
   ]
  },
  {
   "cell_type": "code",
   "execution_count": null,
   "id": "edb7ec62",
   "metadata": {},
   "outputs": [],
   "source": []
  },
  {
   "cell_type": "code",
   "execution_count": null,
   "id": "15bbd6ba",
   "metadata": {},
   "outputs": [],
   "source": [
    "a = 1\n",
    "b = 2\n",
    "e = 5\n",
    "def abc_1():\n",
    "    c = a + b\n",
    "    d = c + e\n",
    "    print(c)\n",
    "    print(d)\n",
    "    \n",
    "    \n",
    "def abc_2():\n",
    "    e = 2\n",
    "    d = a + e\n",
    "    print(d)"
   ]
  },
  {
   "cell_type": "code",
   "execution_count": null,
   "id": "45d86388",
   "metadata": {},
   "outputs": [],
   "source": [
    "abc_2()"
   ]
  },
  {
   "cell_type": "code",
   "execution_count": null,
   "id": "0d9c8e33",
   "metadata": {},
   "outputs": [],
   "source": [
    "abc_1()"
   ]
  },
  {
   "cell_type": "code",
   "execution_count": null,
   "id": "ca77471e",
   "metadata": {},
   "outputs": [],
   "source": []
  },
  {
   "cell_type": "code",
   "execution_count": null,
   "id": "ebaf21a9",
   "metadata": {},
   "outputs": [],
   "source": []
  },
  {
   "cell_type": "code",
   "execution_count": null,
   "id": "262995c3",
   "metadata": {},
   "outputs": [],
   "source": []
  },
  {
   "cell_type": "code",
   "execution_count": null,
   "id": "d2e2780c",
   "metadata": {},
   "outputs": [],
   "source": [
    "def sum_1(x,y):\n",
    "    c = x + y\n",
    "    return c"
   ]
  },
  {
   "cell_type": "code",
   "execution_count": null,
   "id": "22aff893",
   "metadata": {},
   "outputs": [],
   "source": [
    "sum_1(10,20)"
   ]
  },
  {
   "cell_type": "code",
   "execution_count": null,
   "id": "e19d8e8a",
   "metadata": {},
   "outputs": [],
   "source": []
  },
  {
   "cell_type": "code",
   "execution_count": null,
   "id": "d302b60d",
   "metadata": {},
   "outputs": [],
   "source": []
  },
  {
   "cell_type": "code",
   "execution_count": null,
   "id": "dd7837c1",
   "metadata": {},
   "outputs": [],
   "source": [
    "def fun2(x, y):\n",
    "    return(x + y)   "
   ]
  },
  {
   "cell_type": "code",
   "execution_count": null,
   "id": "2cfab03c",
   "metadata": {},
   "outputs": [],
   "source": [
    "def func1():\n",
    "    print(\"this is function 1\")\n",
    "    t = fun2(10,20)\n",
    "    d = c + 10\n",
    "    print(d)"
   ]
  },
  {
   "cell_type": "code",
   "execution_count": null,
   "id": "6bbe6cc5",
   "metadata": {},
   "outputs": [],
   "source": [
    "func1(10,20)"
   ]
  },
  {
   "cell_type": "code",
   "execution_count": null,
   "id": "8f83bdd2",
   "metadata": {},
   "outputs": [],
   "source": []
  },
  {
   "cell_type": "code",
   "execution_count": null,
   "id": "bc065091",
   "metadata": {},
   "outputs": [],
   "source": []
  },
  {
   "cell_type": "code",
   "execution_count": null,
   "id": "33c60450",
   "metadata": {},
   "outputs": [],
   "source": [
    "a = [10,20,30]\n",
    "b =  [100, 400, 900]\n",
    "c = 1400"
   ]
  },
  {
   "cell_type": "code",
   "execution_count": null,
   "id": "a2740b7f",
   "metadata": {},
   "outputs": [],
   "source": [
    "def square(x):\n",
    "    return(x * x)"
   ]
  },
  {
   "cell_type": "code",
   "execution_count": null,
   "id": "18c764ec",
   "metadata": {},
   "outputs": [],
   "source": [
    "sum(b)"
   ]
  },
  {
   "cell_type": "code",
   "execution_count": null,
   "id": "357c75b7",
   "metadata": {},
   "outputs": [],
   "source": [
    "def fun2(x, y):\n",
    "    return(x + y) \n",
    "\n",
    "def func1():\n",
    "    print(\"this is function 1\")\n",
    "    d = fun2(10,20) + 10\n",
    "    print(d)"
   ]
  },
  {
   "cell_type": "code",
   "execution_count": null,
   "id": "c5bbc3f4",
   "metadata": {},
   "outputs": [],
   "source": []
  },
  {
   "cell_type": "code",
   "execution_count": null,
   "id": "923ada5c",
   "metadata": {},
   "outputs": [],
   "source": [
    "x = [10, 20, 30]\n",
    "def square():\n",
    "    for i in x:\n",
    "        y = i**2\n",
    "        z = [].append(y)\n",
    "        return(z)\n",
    "w = sum(z)\n",
    "print(w)"
   ]
  },
  {
   "cell_type": "code",
   "execution_count": null,
   "id": "47c94257",
   "metadata": {},
   "outputs": [],
   "source": []
  }
 ],
 "metadata": {
  "kernelspec": {
   "display_name": "Python 3 (ipykernel)",
   "language": "python",
   "name": "python3"
  },
  "language_info": {
   "codemirror_mode": {
    "name": "ipython",
    "version": 3
   },
   "file_extension": ".py",
   "mimetype": "text/x-python",
   "name": "python",
   "nbconvert_exporter": "python",
   "pygments_lexer": "ipython3",
   "version": "3.10.4"
  }
 },
 "nbformat": 4,
 "nbformat_minor": 5
}
