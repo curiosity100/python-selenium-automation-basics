{
 "cells": [
  {
   "cell_type": "code",
   "execution_count": 1,
   "id": "ef0261b2",
   "metadata": {},
   "outputs": [],
   "source": [
    "def fun2(x, y):\n",
    "    return(x + y) \n",
    "\n",
    "def func1():\n",
    "    print(\"this is function 1\")\n",
    "    d = fun2(10,20) + 10\n",
    "    print(d)"
   ]
  },
  {
   "cell_type": "code",
   "execution_count": null,
   "id": "39a4b905",
   "metadata": {},
   "outputs": [],
   "source": []
  },
  {
   "cell_type": "code",
   "execution_count": null,
   "id": "aaaa129e",
   "metadata": {},
   "outputs": [],
   "source": []
  }
 ],
 "metadata": {
  "kernelspec": {
   "display_name": "Python 3 (ipykernel)",
   "language": "python",
   "name": "python3"
  },
  "language_info": {
   "codemirror_mode": {
    "name": "ipython",
    "version": 3
   },
   "file_extension": ".py",
   "mimetype": "text/x-python",
   "name": "python",
   "nbconvert_exporter": "python",
   "pygments_lexer": "ipython3",
   "version": "3.10.4"
  }
 },
 "nbformat": 4,
 "nbformat_minor": 5
}
