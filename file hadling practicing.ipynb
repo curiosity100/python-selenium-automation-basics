{
 "cells": [
  {
   "cell_type": "code",
   "execution_count": 1,
   "id": "4219fb0f",
   "metadata": {},
   "outputs": [],
   "source": [
    "# read from a file"
   ]
  },
  {
   "cell_type": "code",
   "execution_count": 2,
   "id": "21784a58",
   "metadata": {},
   "outputs": [],
   "source": [
    "file_read = open('abc.txt', 'r')"
   ]
  },
  {
   "cell_type": "code",
   "execution_count": 3,
   "id": "b692dd71",
   "metadata": {},
   "outputs": [
    {
     "name": "stdout",
     "output_type": "stream",
     "text": [
      "\n",
      "hello everyone\n"
     ]
    }
   ],
   "source": [
    "print(file_read.read())"
   ]
  },
  {
   "cell_type": "code",
   "execution_count": 4,
   "id": "13972b00",
   "metadata": {},
   "outputs": [],
   "source": [
    "# write to a file"
   ]
  },
  {
   "cell_type": "code",
   "execution_count": 5,
   "id": "378ab383",
   "metadata": {},
   "outputs": [
    {
     "data": {
      "text/plain": [
       "15"
      ]
     },
     "execution_count": 5,
     "metadata": {},
     "output_type": "execute_result"
    }
   ],
   "source": [
    "file_write = open('abc1.txt', 'w')\n",
    "file_write.write(\"\\nhello everyone\")"
   ]
  },
  {
   "cell_type": "code",
   "execution_count": null,
   "id": "090641f0",
   "metadata": {},
   "outputs": [],
   "source": []
  },
  {
   "cell_type": "code",
   "execution_count": null,
   "id": "3b17b15b",
   "metadata": {},
   "outputs": [],
   "source": []
  }
 ],
 "metadata": {
  "kernelspec": {
   "display_name": "Python 3 (ipykernel)",
   "language": "python",
   "name": "python3"
  },
  "language_info": {
   "codemirror_mode": {
    "name": "ipython",
    "version": 3
   },
   "file_extension": ".py",
   "mimetype": "text/x-python",
   "name": "python",
   "nbconvert_exporter": "python",
   "pygments_lexer": "ipython3",
   "version": "3.10.4"
  }
 },
 "nbformat": 4,
 "nbformat_minor": 5
}
