{
 "cells": [
  {
   "cell_type": "code",
   "execution_count": 1,
   "id": "d0b087da",
   "metadata": {},
   "outputs": [],
   "source": [
    "# To find the sum of sqaure of each valus in a list"
   ]
  },
  {
   "cell_type": "code",
   "execution_count": 2,
   "id": "c19a5bc0",
   "metadata": {},
   "outputs": [
    {
     "name": "stdout",
     "output_type": "stream",
     "text": [
      "10000\n",
      "2900\n",
      "1400\n"
     ]
    }
   ],
   "source": [
    "x = [10, 20, 30]\n",
    "y = [20, 30, 40]\n",
    "w = [0, 0, 100]\n",
    "def square(x):\n",
    "    z = []\n",
    "    for i in x:\n",
    "        y = i**2\n",
    "        z.append(y)\n",
    "    return(z)\n",
    "\n",
    "def sumofsquares(x):\n",
    "    w = square(x)\n",
    "    x1 = sum(w)\n",
    "    print(x1)\n",
    "    \n",
    "sumofsquares(w)\n",
    "sumofsquares(y)\n",
    "sumofsquares(x)"
   ]
  },
  {
   "cell_type": "code",
   "execution_count": null,
   "id": "4ac895a6",
   "metadata": {},
   "outputs": [],
   "source": []
  },
  {
   "cell_type": "code",
   "execution_count": null,
   "id": "8f75a22d",
   "metadata": {},
   "outputs": [],
   "source": []
  }
 ],
 "metadata": {
  "kernelspec": {
   "display_name": "Python 3 (ipykernel)",
   "language": "python",
   "name": "python3"
  },
  "language_info": {
   "codemirror_mode": {
    "name": "ipython",
    "version": 3
   },
   "file_extension": ".py",
   "mimetype": "text/x-python",
   "name": "python",
   "nbconvert_exporter": "python",
   "pygments_lexer": "ipython3",
   "version": "3.10.4"
  }
 },
 "nbformat": 4,
 "nbformat_minor": 5
}
