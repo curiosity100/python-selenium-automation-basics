{
 "cells": [
  {
   "cell_type": "markdown",
   "id": "ef60e368",
   "metadata": {},
   "source": [
    "simple if statement"
   ]
  },
  {
   "cell_type": "raw",
   "id": "08179c58",
   "metadata": {},
   "source": [
    "if(condition):\n",
    "    print(\"\")"
   ]
  },
  {
   "cell_type": "code",
   "execution_count": 3,
   "id": "4bcd9eb8",
   "metadata": {},
   "outputs": [],
   "source": [
    "a = 20\n",
    "b = 40\n",
    "if b == a:\n",
    "    print(\"same\")"
   ]
  },
  {
   "cell_type": "code",
   "execution_count": null,
   "id": "a4a6b17c",
   "metadata": {},
   "outputs": [],
   "source": []
  },
  {
   "cell_type": "code",
   "execution_count": 4,
   "id": "11d6f001",
   "metadata": {},
   "outputs": [
    {
     "name": "stdout",
     "output_type": "stream",
     "text": [
      "pass\n"
     ]
    }
   ],
   "source": [
    "theory = 55\n",
    "lab = 20\n",
    "\n",
    "if( theory + lab > 35):\n",
    "    print(\"pass\")"
   ]
  },
  {
   "cell_type": "code",
   "execution_count": 5,
   "id": "b48824ea",
   "metadata": {},
   "outputs": [
    {
     "name": "stdout",
     "output_type": "stream",
     "text": [
      "fail\n"
     ]
    }
   ],
   "source": [
    "theory = 5\n",
    "lab = 5\n",
    "\n",
    "if( theory + lab > 35):\n",
    "    print(\"pass\")\n",
    "else:\n",
    "    print(\"fail\")"
   ]
  },
  {
   "cell_type": "code",
   "execution_count": null,
   "id": "9f77c995",
   "metadata": {},
   "outputs": [],
   "source": []
  },
  {
   "cell_type": "code",
   "execution_count": null,
   "id": "0f72b560",
   "metadata": {},
   "outputs": [],
   "source": []
  },
  {
   "cell_type": "code",
   "execution_count": 7,
   "id": "a8c8b766",
   "metadata": {},
   "outputs": [
    {
     "name": "stdout",
     "output_type": "stream",
     "text": [
      "enter the number 10.1\n",
      "10.1\n",
      "different number\n"
     ]
    }
   ],
   "source": [
    "a = 10\n",
    "b = float(input(\"enter the number \"))\n",
    "print(b)\n",
    "if a == b:\n",
    "    print(\"same number\")\n",
    "else:\n",
    "    print(\"different number\")"
   ]
  },
  {
   "cell_type": "code",
   "execution_count": null,
   "id": "124a0756",
   "metadata": {},
   "outputs": [],
   "source": []
  },
  {
   "cell_type": "code",
   "execution_count": 12,
   "id": "78e4bb8a",
   "metadata": {},
   "outputs": [],
   "source": []
  },
  {
   "cell_type": "code",
   "execution_count": null,
   "id": "00e0e71c",
   "metadata": {},
   "outputs": [],
   "source": [
    "a = int(input())\n",
    "\n",
    "if (10 < a <= 20):\n",
    "    print(\"its there\")\n",
    "elif (21<= a <= 40):\n",
    "    print(\"here\")\n",
    "else:\n",
    "    print(\"not here\")"
   ]
  },
  {
   "cell_type": "code",
   "execution_count": null,
   "id": "35fffc6b",
   "metadata": {},
   "outputs": [],
   "source": [
    "if condition:\n",
    "    if condition:\n",
    "        print()\n",
    "    "
   ]
  },
  {
   "cell_type": "code",
   "execution_count": 1,
   "id": "9fa3cd21",
   "metadata": {},
   "outputs": [
    {
     "name": "stdout",
     "output_type": "stream",
     "text": [
      "10\n",
      "not here\n"
     ]
    }
   ],
   "source": [
    "a = int(input())\n",
    "\n",
    "if (10 < a <= 20):\n",
    "    print(\"its there\")\n",
    "elif (21<= a <= 40):\n",
    "    print(\"here\")\n",
    "else:\n",
    "    print(\"not here\")"
   ]
  },
  {
   "cell_type": "code",
   "execution_count": null,
   "id": "f5bffd47",
   "metadata": {},
   "outputs": [],
   "source": [
    "b = input()"
   ]
  },
  {
   "cell_type": "code",
   "execution_count": null,
   "id": "9ac967f0",
   "metadata": {},
   "outputs": [],
   "source": []
  },
  {
   "cell_type": "code",
   "execution_count": null,
   "id": "171d6e6e",
   "metadata": {},
   "outputs": [],
   "source": []
  },
  {
   "cell_type": "code",
   "execution_count": null,
   "id": "fa86b66c",
   "metadata": {},
   "outputs": [],
   "source": []
  },
  {
   "cell_type": "code",
   "execution_count": null,
   "id": "0e48c689",
   "metadata": {},
   "outputs": [],
   "source": []
  },
  {
   "cell_type": "code",
   "execution_count": null,
   "id": "9cd9aefb",
   "metadata": {},
   "outputs": [],
   "source": []
  }
 ],
 "metadata": {
  "kernelspec": {
   "display_name": "Python 3 (ipykernel)",
   "language": "python",
   "name": "python3"
  },
  "language_info": {
   "codemirror_mode": {
    "name": "ipython",
    "version": 3
   },
   "file_extension": ".py",
   "mimetype": "text/x-python",
   "name": "python",
   "nbconvert_exporter": "python",
   "pygments_lexer": "ipython3",
   "version": "3.10.4"
  }
 },
 "nbformat": 4,
 "nbformat_minor": 5
}
